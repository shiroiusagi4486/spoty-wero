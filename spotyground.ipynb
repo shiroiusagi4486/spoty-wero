{
 "cells": [
  {
   "cell_type": "code",
   "execution_count": 24,
   "metadata": {},
   "outputs": [],
   "source": [
    "#Librerias a utilizar\n",
    "import requests\n",
    "import re\n",
    "from bs4 import BeautifulSoup\n",
    "import spotipy\n",
    "import spotipy.util as util\n",
    "from spotipy.oauth2 import SpotifyClientCredentials\n",
    "import spotipy.oauth2 as oauth2\n",
    "import pandas as pd\n",
    "from pandas.io.json import json_normalize\n",
    "import json"
   ]
  },
  {
   "cell_type": "markdown",
   "metadata": {},
   "source": [
    "# Web scraping"
   ]
  },
  {
   "cell_type": "code",
   "execution_count": 2,
   "metadata": {},
   "outputs": [],
   "source": [
    "urls=['https://open.spotify.com/user/1256413953?si=dovHv1vRTDSRj2ugndoMXg', 'https://open.spotify.com/user/12101725182?si=mweUDKodTVilenT7wZ4k9Q','https://open.spotify.com/user/evankiske?si=9ZxkcCt4TLeRtrGM_5b1Bg','https://open.spotify.com/user/5jwbazg8to8yq46r0goyfvj2c?si=D5zXw2mrRuO8s2gHKniF8Q']\n",
    "html =[requests.get(url).content for url in urls]"
   ]
  },
  {
   "cell_type": "code",
   "execution_count": 3,
   "metadata": {},
   "outputs": [],
   "source": [
    "usrs =[re.findall(r'\\w*(?=\\?)', url) for url in urls]\n",
    "usuariosID = [elemento[0] for elemento in usrs]"
   ]
  },
  {
   "cell_type": "code",
   "execution_count": 4,
   "metadata": {},
   "outputs": [],
   "source": [
    "playlists = [re.findall(r'\\/playlist\\/\\w*', str(pagina)) for pagina in html]"
   ]
  },
  {
   "cell_type": "code",
   "execution_count": 5,
   "metadata": {},
   "outputs": [],
   "source": [
    "soups = [BeautifulSoup(pagina, 'lxml') for pagina in html]"
   ]
  },
  {
   "cell_type": "code",
   "execution_count": 6,
   "metadata": {},
   "outputs": [],
   "source": [
    "az = [soup.find_all('span',{'dir':'auto'}) for soup in soups]"
   ]
  },
  {
   "cell_type": "code",
   "execution_count": 9,
   "metadata": {},
   "outputs": [
    {
     "name": "stdout",
     "output_type": "stream",
     "text": [
      "Nombre Playlist [['When You Were Young - Calvin Harris Remix – The Killers', 'Ábrete'], ['Star Wars OST', 'HBO - Tyrion Lannister GOT', 'Estados whats app', 'Your Top Songs 2017', 'Your Top Songs 2017', 'Your Top Songs 2017', 'cuarteto de nos', 'Mis pistas de Shazam', 'Night Rider', 'Epic Gaming', 'Felipe El Hombre', 'Favoritas', 'Division Minuscula', 'Yousician - Weekly Challenge Playlist', 'Radio Rock', 'Carmina Burana', 'De Camino', 'Final Fantasy OST', 'LOS CUARENTA PRINCIPALES ÉXITOS DEL 2019', 'Run Wild', 'Music for a Workday', 'BSO \"Las mejores bandas sonoras sin letra\"', \"Web Developer's Delight\", 'Tributos', 'De peliculas', 'varios'], ['AKMU', 'MPR', 'Mamma Mia', 'Pastel*Palettes', 'K-On', 'S Club 7', 'F', 'Mekaku', 'FOB', 'For the Ride', 'Fire Playlist'], ['Grimes, grames, grumes']]\n",
      "nombres ['Luis Gallo', 'Erni Vil', 'evankiske', 'Eduardo ']\n"
     ]
    }
   ],
   "source": [
    "PlstName=[]\n",
    "nombres = []\n",
    "for etiquetas in az:\n",
    "    limpio =[]\n",
    "    for contenido in etiquetas:\n",
    "        limpio.append(str(contenido).replace('<span dir=\"auto\">', '').replace('</span>', ''))\n",
    "    nombres.append(limpio[0])\n",
    "    PlstName.append(limpio[1:])\n",
    "print(\"Nombre Playlist\", PlstName)\n",
    "print(\"nombres\", nombres)"
   ]
  },
  {
   "cell_type": "code",
   "execution_count": 74,
   "metadata": {},
   "outputs": [],
   "source": [
    "listota = []\n",
    "diccionario = {}\n",
    "comprimido = zip(usuariosID, nombres, PlstName,playlists)"
   ]
  },
  {
   "cell_type": "code",
   "execution_count": 75,
   "metadata": {},
   "outputs": [],
   "source": [
    "for rar in comprimido:\n",
    "    for p in range(len(rar[2])):\n",
    "        diccionario= {'Id_usr':rar[0], 'Nombre_perfil':rar[1], 'PlaylistName':rar[2][p] ,'Id_playlist':rar[3][p]}\n",
    "        listota.append(diccionario.copy())\n"
   ]
  },
  {
   "cell_type": "code",
   "execution_count": 79,
   "metadata": {},
   "outputs": [],
   "source": [
    "scrapdf = pd.DataFrame(listota)"
   ]
  },
  {
   "cell_type": "code",
   "execution_count": 80,
   "metadata": {},
   "outputs": [
    {
     "data": {
      "text/html": [
       "<div>\n",
       "<style scoped>\n",
       "    .dataframe tbody tr th:only-of-type {\n",
       "        vertical-align: middle;\n",
       "    }\n",
       "\n",
       "    .dataframe tbody tr th {\n",
       "        vertical-align: top;\n",
       "    }\n",
       "\n",
       "    .dataframe thead th {\n",
       "        text-align: right;\n",
       "    }\n",
       "</style>\n",
       "<table border=\"1\" class=\"dataframe\">\n",
       "  <thead>\n",
       "    <tr style=\"text-align: right;\">\n",
       "      <th></th>\n",
       "      <th>Id_playlist</th>\n",
       "      <th>Id_usr</th>\n",
       "      <th>Nombre_perfil</th>\n",
       "      <th>PlaylistName</th>\n",
       "    </tr>\n",
       "  </thead>\n",
       "  <tbody>\n",
       "    <tr>\n",
       "      <th>0</th>\n",
       "      <td>/playlist/7ET1krpst6bFmuq13k3Vy1</td>\n",
       "      <td>1256413953</td>\n",
       "      <td>Luis Gallo</td>\n",
       "      <td>When You Were Young - Calvin Harris Remix – Th...</td>\n",
       "    </tr>\n",
       "    <tr>\n",
       "      <th>1</th>\n",
       "      <td>/playlist/1uKN4nHbY5f3qG2Dh5JsR0</td>\n",
       "      <td>1256413953</td>\n",
       "      <td>Luis Gallo</td>\n",
       "      <td>Ábrete</td>\n",
       "    </tr>\n",
       "    <tr>\n",
       "      <th>2</th>\n",
       "      <td>/playlist/7JBa6WHQQn7hK7Rv4JvPb4</td>\n",
       "      <td>12101725182</td>\n",
       "      <td>Erni Vil</td>\n",
       "      <td>Star Wars OST</td>\n",
       "    </tr>\n",
       "    <tr>\n",
       "      <th>3</th>\n",
       "      <td>/playlist/3LYkG7u6P8Mr5F0qwxkfPO</td>\n",
       "      <td>12101725182</td>\n",
       "      <td>Erni Vil</td>\n",
       "      <td>HBO - Tyrion Lannister GOT</td>\n",
       "    </tr>\n",
       "    <tr>\n",
       "      <th>4</th>\n",
       "      <td>/playlist/3LXuqFWKxpJGn6yoTvDAOG</td>\n",
       "      <td>12101725182</td>\n",
       "      <td>Erni Vil</td>\n",
       "      <td>Estados whats app</td>\n",
       "    </tr>\n",
       "    <tr>\n",
       "      <th>5</th>\n",
       "      <td>/playlist/37i9dQZF1E9KtIXrVxSJHB</td>\n",
       "      <td>12101725182</td>\n",
       "      <td>Erni Vil</td>\n",
       "      <td>Your Top Songs 2017</td>\n",
       "    </tr>\n",
       "    <tr>\n",
       "      <th>6</th>\n",
       "      <td>/playlist/37i9dQZF1E9WHw9mQ9boVa</td>\n",
       "      <td>12101725182</td>\n",
       "      <td>Erni Vil</td>\n",
       "      <td>Your Top Songs 2017</td>\n",
       "    </tr>\n",
       "    <tr>\n",
       "      <th>7</th>\n",
       "      <td>/playlist/37i9dQZF1E9LKo8zTDWLbT</td>\n",
       "      <td>12101725182</td>\n",
       "      <td>Erni Vil</td>\n",
       "      <td>Your Top Songs 2017</td>\n",
       "    </tr>\n",
       "    <tr>\n",
       "      <th>8</th>\n",
       "      <td>/playlist/1QpoHQzxqHrJuyGk4FOKZF</td>\n",
       "      <td>12101725182</td>\n",
       "      <td>Erni Vil</td>\n",
       "      <td>cuarteto de nos</td>\n",
       "    </tr>\n",
       "    <tr>\n",
       "      <th>9</th>\n",
       "      <td>/playlist/7mqBo8l3x7lNm7QWXwM5Bu</td>\n",
       "      <td>12101725182</td>\n",
       "      <td>Erni Vil</td>\n",
       "      <td>Mis pistas de Shazam</td>\n",
       "    </tr>\n",
       "    <tr>\n",
       "      <th>10</th>\n",
       "      <td>/playlist/37i9dQZF1DX6GJXiuZRisr</td>\n",
       "      <td>12101725182</td>\n",
       "      <td>Erni Vil</td>\n",
       "      <td>Night Rider</td>\n",
       "    </tr>\n",
       "    <tr>\n",
       "      <th>11</th>\n",
       "      <td>/playlist/37i9dQZF1DX8GjsySWIS1x</td>\n",
       "      <td>12101725182</td>\n",
       "      <td>Erni Vil</td>\n",
       "      <td>Epic Gaming</td>\n",
       "    </tr>\n",
       "    <tr>\n",
       "      <th>12</th>\n",
       "      <td>/playlist/5B6wyuJTyKY9pU0ZzyhYLS</td>\n",
       "      <td>12101725182</td>\n",
       "      <td>Erni Vil</td>\n",
       "      <td>Felipe El Hombre</td>\n",
       "    </tr>\n",
       "    <tr>\n",
       "      <th>13</th>\n",
       "      <td>/playlist/4xTffL5Krabz551196ifpB</td>\n",
       "      <td>12101725182</td>\n",
       "      <td>Erni Vil</td>\n",
       "      <td>Favoritas</td>\n",
       "    </tr>\n",
       "    <tr>\n",
       "      <th>14</th>\n",
       "      <td>/playlist/56idtfklSgetchItlEg50d</td>\n",
       "      <td>12101725182</td>\n",
       "      <td>Erni Vil</td>\n",
       "      <td>Division Minuscula</td>\n",
       "    </tr>\n",
       "    <tr>\n",
       "      <th>15</th>\n",
       "      <td>/playlist/5SWgXc2e3Qp6COeBddMYRG</td>\n",
       "      <td>12101725182</td>\n",
       "      <td>Erni Vil</td>\n",
       "      <td>Yousician - Weekly Challenge Playlist</td>\n",
       "    </tr>\n",
       "    <tr>\n",
       "      <th>16</th>\n",
       "      <td>/playlist/37i9dQZF1DX1te6miphixI</td>\n",
       "      <td>12101725182</td>\n",
       "      <td>Erni Vil</td>\n",
       "      <td>Radio Rock</td>\n",
       "    </tr>\n",
       "    <tr>\n",
       "      <th>17</th>\n",
       "      <td>/playlist/4Wpi3dO8ezPBz8upIOw02Q</td>\n",
       "      <td>12101725182</td>\n",
       "      <td>Erni Vil</td>\n",
       "      <td>Carmina Burana</td>\n",
       "    </tr>\n",
       "    <tr>\n",
       "      <th>18</th>\n",
       "      <td>/playlist/37i9dQZF1DXe3a8ZI7Co8I</td>\n",
       "      <td>12101725182</td>\n",
       "      <td>Erni Vil</td>\n",
       "      <td>De Camino</td>\n",
       "    </tr>\n",
       "    <tr>\n",
       "      <th>19</th>\n",
       "      <td>/playlist/2qEkrWJ3agc0ezwCYZKYtG</td>\n",
       "      <td>12101725182</td>\n",
       "      <td>Erni Vil</td>\n",
       "      <td>Final Fantasy OST</td>\n",
       "    </tr>\n",
       "    <tr>\n",
       "      <th>20</th>\n",
       "      <td>/playlist/3pQiNhRGHeQ2q3eU6Wo0Rb</td>\n",
       "      <td>12101725182</td>\n",
       "      <td>Erni Vil</td>\n",
       "      <td>LOS CUARENTA PRINCIPALES ÉXITOS DEL 2019</td>\n",
       "    </tr>\n",
       "    <tr>\n",
       "      <th>21</th>\n",
       "      <td>/playlist/37i9dQZF1DX35oM5SPECmN</td>\n",
       "      <td>12101725182</td>\n",
       "      <td>Erni Vil</td>\n",
       "      <td>Run Wild</td>\n",
       "    </tr>\n",
       "    <tr>\n",
       "      <th>22</th>\n",
       "      <td>/playlist/37i9dQZF1DXcsT4WKI8W8r</td>\n",
       "      <td>12101725182</td>\n",
       "      <td>Erni Vil</td>\n",
       "      <td>Music for a Workday</td>\n",
       "    </tr>\n",
       "    <tr>\n",
       "      <th>23</th>\n",
       "      <td>/playlist/28Xja8q1MJAgjjaGSzA0cb</td>\n",
       "      <td>12101725182</td>\n",
       "      <td>Erni Vil</td>\n",
       "      <td>BSO \"Las mejores bandas sonoras sin letra\"</td>\n",
       "    </tr>\n",
       "    <tr>\n",
       "      <th>24</th>\n",
       "      <td>/playlist/1JOYyOqRLvYSpNjbYmHx7G</td>\n",
       "      <td>12101725182</td>\n",
       "      <td>Erni Vil</td>\n",
       "      <td>Web Developer's Delight</td>\n",
       "    </tr>\n",
       "    <tr>\n",
       "      <th>25</th>\n",
       "      <td>/playlist/1XHGvs9mm3Bl1vROyox6Tk</td>\n",
       "      <td>12101725182</td>\n",
       "      <td>Erni Vil</td>\n",
       "      <td>Tributos</td>\n",
       "    </tr>\n",
       "    <tr>\n",
       "      <th>26</th>\n",
       "      <td>/playlist/1XMvGMjBZs2z47Oese6Swe</td>\n",
       "      <td>12101725182</td>\n",
       "      <td>Erni Vil</td>\n",
       "      <td>De peliculas</td>\n",
       "    </tr>\n",
       "    <tr>\n",
       "      <th>27</th>\n",
       "      <td>/playlist/2xk4rdbo9Wp32asiQtBtsz</td>\n",
       "      <td>12101725182</td>\n",
       "      <td>Erni Vil</td>\n",
       "      <td>varios</td>\n",
       "    </tr>\n",
       "    <tr>\n",
       "      <th>28</th>\n",
       "      <td>/playlist/1e5HQmiQqTRylaqlcYqXLE</td>\n",
       "      <td>evankiske</td>\n",
       "      <td>evankiske</td>\n",
       "      <td>AKMU</td>\n",
       "    </tr>\n",
       "    <tr>\n",
       "      <th>29</th>\n",
       "      <td>/playlist/6lNsfzyJMvrDSAhldow9EW</td>\n",
       "      <td>evankiske</td>\n",
       "      <td>evankiske</td>\n",
       "      <td>MPR</td>\n",
       "    </tr>\n",
       "    <tr>\n",
       "      <th>30</th>\n",
       "      <td>/playlist/4njm9pFvhzTF4e1uGL9kDr</td>\n",
       "      <td>evankiske</td>\n",
       "      <td>evankiske</td>\n",
       "      <td>Mamma Mia</td>\n",
       "    </tr>\n",
       "    <tr>\n",
       "      <th>31</th>\n",
       "      <td>/playlist/7noiOK15LNBvOK7sOV6ayv</td>\n",
       "      <td>evankiske</td>\n",
       "      <td>evankiske</td>\n",
       "      <td>Pastel*Palettes</td>\n",
       "    </tr>\n",
       "    <tr>\n",
       "      <th>32</th>\n",
       "      <td>/playlist/7aUv0S9M5gvCnCiguQerlb</td>\n",
       "      <td>evankiske</td>\n",
       "      <td>evankiske</td>\n",
       "      <td>K-On</td>\n",
       "    </tr>\n",
       "    <tr>\n",
       "      <th>33</th>\n",
       "      <td>/playlist/4nIsoq9gsvAaEpO6u3Lnt2</td>\n",
       "      <td>evankiske</td>\n",
       "      <td>evankiske</td>\n",
       "      <td>S Club 7</td>\n",
       "    </tr>\n",
       "    <tr>\n",
       "      <th>34</th>\n",
       "      <td>/playlist/1YbQ9ncRfdmNGB9cjngmo6</td>\n",
       "      <td>evankiske</td>\n",
       "      <td>evankiske</td>\n",
       "      <td>F</td>\n",
       "    </tr>\n",
       "    <tr>\n",
       "      <th>35</th>\n",
       "      <td>/playlist/6KwKa9ZuMjuWcP1sOA2G2Y</td>\n",
       "      <td>evankiske</td>\n",
       "      <td>evankiske</td>\n",
       "      <td>Mekaku</td>\n",
       "    </tr>\n",
       "    <tr>\n",
       "      <th>36</th>\n",
       "      <td>/playlist/13yztk5vK9ZQ3FVsuAIeF2</td>\n",
       "      <td>evankiske</td>\n",
       "      <td>evankiske</td>\n",
       "      <td>FOB</td>\n",
       "    </tr>\n",
       "    <tr>\n",
       "      <th>37</th>\n",
       "      <td>/playlist/6ReRZFiwoojQVSPipWoet1</td>\n",
       "      <td>evankiske</td>\n",
       "      <td>evankiske</td>\n",
       "      <td>For the Ride</td>\n",
       "    </tr>\n",
       "    <tr>\n",
       "      <th>38</th>\n",
       "      <td>/playlist/5n2Swd5RnVj3lzyNNEhqX9</td>\n",
       "      <td>evankiske</td>\n",
       "      <td>evankiske</td>\n",
       "      <td>Fire Playlist</td>\n",
       "    </tr>\n",
       "    <tr>\n",
       "      <th>39</th>\n",
       "      <td>/playlist/0vR5lLS7nyNwixXZB171c8</td>\n",
       "      <td>5jwbazg8to8yq46r0goyfvj2c</td>\n",
       "      <td>Eduardo</td>\n",
       "      <td>Grimes, grames, grumes</td>\n",
       "    </tr>\n",
       "  </tbody>\n",
       "</table>\n",
       "</div>"
      ],
      "text/plain": [
       "                         Id_playlist                     Id_usr Nombre_perfil  \\\n",
       "0   /playlist/7ET1krpst6bFmuq13k3Vy1                 1256413953    Luis Gallo   \n",
       "1   /playlist/1uKN4nHbY5f3qG2Dh5JsR0                 1256413953    Luis Gallo   \n",
       "2   /playlist/7JBa6WHQQn7hK7Rv4JvPb4                12101725182      Erni Vil   \n",
       "3   /playlist/3LYkG7u6P8Mr5F0qwxkfPO                12101725182      Erni Vil   \n",
       "4   /playlist/3LXuqFWKxpJGn6yoTvDAOG                12101725182      Erni Vil   \n",
       "5   /playlist/37i9dQZF1E9KtIXrVxSJHB                12101725182      Erni Vil   \n",
       "6   /playlist/37i9dQZF1E9WHw9mQ9boVa                12101725182      Erni Vil   \n",
       "7   /playlist/37i9dQZF1E9LKo8zTDWLbT                12101725182      Erni Vil   \n",
       "8   /playlist/1QpoHQzxqHrJuyGk4FOKZF                12101725182      Erni Vil   \n",
       "9   /playlist/7mqBo8l3x7lNm7QWXwM5Bu                12101725182      Erni Vil   \n",
       "10  /playlist/37i9dQZF1DX6GJXiuZRisr                12101725182      Erni Vil   \n",
       "11  /playlist/37i9dQZF1DX8GjsySWIS1x                12101725182      Erni Vil   \n",
       "12  /playlist/5B6wyuJTyKY9pU0ZzyhYLS                12101725182      Erni Vil   \n",
       "13  /playlist/4xTffL5Krabz551196ifpB                12101725182      Erni Vil   \n",
       "14  /playlist/56idtfklSgetchItlEg50d                12101725182      Erni Vil   \n",
       "15  /playlist/5SWgXc2e3Qp6COeBddMYRG                12101725182      Erni Vil   \n",
       "16  /playlist/37i9dQZF1DX1te6miphixI                12101725182      Erni Vil   \n",
       "17  /playlist/4Wpi3dO8ezPBz8upIOw02Q                12101725182      Erni Vil   \n",
       "18  /playlist/37i9dQZF1DXe3a8ZI7Co8I                12101725182      Erni Vil   \n",
       "19  /playlist/2qEkrWJ3agc0ezwCYZKYtG                12101725182      Erni Vil   \n",
       "20  /playlist/3pQiNhRGHeQ2q3eU6Wo0Rb                12101725182      Erni Vil   \n",
       "21  /playlist/37i9dQZF1DX35oM5SPECmN                12101725182      Erni Vil   \n",
       "22  /playlist/37i9dQZF1DXcsT4WKI8W8r                12101725182      Erni Vil   \n",
       "23  /playlist/28Xja8q1MJAgjjaGSzA0cb                12101725182      Erni Vil   \n",
       "24  /playlist/1JOYyOqRLvYSpNjbYmHx7G                12101725182      Erni Vil   \n",
       "25  /playlist/1XHGvs9mm3Bl1vROyox6Tk                12101725182      Erni Vil   \n",
       "26  /playlist/1XMvGMjBZs2z47Oese6Swe                12101725182      Erni Vil   \n",
       "27  /playlist/2xk4rdbo9Wp32asiQtBtsz                12101725182      Erni Vil   \n",
       "28  /playlist/1e5HQmiQqTRylaqlcYqXLE                  evankiske     evankiske   \n",
       "29  /playlist/6lNsfzyJMvrDSAhldow9EW                  evankiske     evankiske   \n",
       "30  /playlist/4njm9pFvhzTF4e1uGL9kDr                  evankiske     evankiske   \n",
       "31  /playlist/7noiOK15LNBvOK7sOV6ayv                  evankiske     evankiske   \n",
       "32  /playlist/7aUv0S9M5gvCnCiguQerlb                  evankiske     evankiske   \n",
       "33  /playlist/4nIsoq9gsvAaEpO6u3Lnt2                  evankiske     evankiske   \n",
       "34  /playlist/1YbQ9ncRfdmNGB9cjngmo6                  evankiske     evankiske   \n",
       "35  /playlist/6KwKa9ZuMjuWcP1sOA2G2Y                  evankiske     evankiske   \n",
       "36  /playlist/13yztk5vK9ZQ3FVsuAIeF2                  evankiske     evankiske   \n",
       "37  /playlist/6ReRZFiwoojQVSPipWoet1                  evankiske     evankiske   \n",
       "38  /playlist/5n2Swd5RnVj3lzyNNEhqX9                  evankiske     evankiske   \n",
       "39  /playlist/0vR5lLS7nyNwixXZB171c8  5jwbazg8to8yq46r0goyfvj2c      Eduardo    \n",
       "\n",
       "                                         PlaylistName  \n",
       "0   When You Were Young - Calvin Harris Remix – Th...  \n",
       "1                                              Ábrete  \n",
       "2                                       Star Wars OST  \n",
       "3                          HBO - Tyrion Lannister GOT  \n",
       "4                                   Estados whats app  \n",
       "5                                 Your Top Songs 2017  \n",
       "6                                 Your Top Songs 2017  \n",
       "7                                 Your Top Songs 2017  \n",
       "8                                     cuarteto de nos  \n",
       "9                                Mis pistas de Shazam  \n",
       "10                                        Night Rider  \n",
       "11                                        Epic Gaming  \n",
       "12                                   Felipe El Hombre  \n",
       "13                                          Favoritas  \n",
       "14                                 Division Minuscula  \n",
       "15              Yousician - Weekly Challenge Playlist  \n",
       "16                                         Radio Rock  \n",
       "17                                     Carmina Burana  \n",
       "18                                          De Camino  \n",
       "19                                  Final Fantasy OST  \n",
       "20           LOS CUARENTA PRINCIPALES ÉXITOS DEL 2019  \n",
       "21                                           Run Wild  \n",
       "22                                Music for a Workday  \n",
       "23         BSO \"Las mejores bandas sonoras sin letra\"  \n",
       "24                            Web Developer's Delight  \n",
       "25                                           Tributos  \n",
       "26                                       De peliculas  \n",
       "27                                             varios  \n",
       "28                                               AKMU  \n",
       "29                                                MPR  \n",
       "30                                          Mamma Mia  \n",
       "31                                    Pastel*Palettes  \n",
       "32                                               K-On  \n",
       "33                                           S Club 7  \n",
       "34                                                  F  \n",
       "35                                             Mekaku  \n",
       "36                                                FOB  \n",
       "37                                       For the Ride  \n",
       "38                                      Fire Playlist  \n",
       "39                             Grimes, grames, grumes  "
      ]
     },
     "execution_count": 80,
     "metadata": {},
     "output_type": "execute_result"
    }
   ],
   "source": [
    "scrapdf"
   ]
  },
  {
   "cell_type": "code",
   "execution_count": null,
   "metadata": {},
   "outputs": [],
   "source": [
    "for pareja in df:\n",
    "    print(df.Id_playlist, df.Id_usr)"
   ]
  },
  {
   "cell_type": "code",
   "execution_count": null,
   "metadata": {},
   "outputs": [],
   "source": []
  },
  {
   "cell_type": "code",
   "execution_count": null,
   "metadata": {},
   "outputs": [],
   "source": []
  },
  {
   "cell_type": "code",
   "execution_count": null,
   "metadata": {},
   "outputs": [],
   "source": []
  },
  {
   "cell_type": "code",
   "execution_count": null,
   "metadata": {},
   "outputs": [],
   "source": []
  },
  {
   "cell_type": "code",
   "execution_count": null,
   "metadata": {},
   "outputs": [],
   "source": []
  },
  {
   "cell_type": "code",
   "execution_count": null,
   "metadata": {},
   "outputs": [],
   "source": []
  },
  {
   "cell_type": "code",
   "execution_count": null,
   "metadata": {},
   "outputs": [],
   "source": []
  },
  {
   "cell_type": "code",
   "execution_count": null,
   "metadata": {},
   "outputs": [],
   "source": []
  },
  {
   "cell_type": "code",
   "execution_count": null,
   "metadata": {},
   "outputs": [],
   "source": []
  },
  {
   "cell_type": "code",
   "execution_count": null,
   "metadata": {},
   "outputs": [],
   "source": []
  },
  {
   "cell_type": "code",
   "execution_count": null,
   "metadata": {},
   "outputs": [],
   "source": []
  },
  {
   "cell_type": "markdown",
   "metadata": {},
   "source": [
    "# API Parsing"
   ]
  },
  {
   "cell_type": "code",
   "execution_count": 84,
   "metadata": {},
   "outputs": [],
   "source": [
    "#variables para poder conectar a la API de spotifi, son provistos por developer spotify\n",
    "CLIENT_ID = \"2b7f57a2e7d74e43b0a0771a99fbb470\"\n",
    "CLIENT_SECRET = \"219cfd4ed31349d5b3175e3526de4921\"\n",
    "\n",
    "#Autentificacion y uso de las variables de arriba\n",
    "credentials = oauth2.SpotifyClientCredentials(\n",
    "        client_id=CLIENT_ID,\n",
    "        client_secret=CLIENT_SECRET)\n",
    "\n",
    "#Creacion de los token de autenticación de spotify\n",
    "token = credentials.get_access_token()\n",
    "spotify = spotipy.Spotify(auth=token)\n"
   ]
  },
  {
   "cell_type": "code",
   "execution_count": 85,
   "metadata": {},
   "outputs": [],
   "source": [
    "apiDF = pd.DataFrame({'href':[], 'items':[], 'limit':[], 'next':[], 'offset':[], 'previous':[], 'total':[]})"
   ]
  },
  {
   "cell_type": "code",
   "execution_count": 89,
   "metadata": {},
   "outputs": [],
   "source": [
    "scrapusr = list(scrapdf['Id_usr'])\n",
    "scraplst = list(scrapdf['Id_playlist'])\n",
    "\n"
   ]
  },
  {
   "cell_type": "code",
   "execution_count": 89,
   "metadata": {},
   "outputs": [],
   "source": [
    "DataFrame.iteritems()"
   ]
  },
  {
   "cell_type": "code",
   "execution_count": 97,
   "metadata": {},
   "outputs": [
    {
     "ename": "TypeError",
     "evalue": "Can only append a Series if ignore_index=True or if the Series has a name",
     "output_type": "error",
     "traceback": [
      "\u001b[1;31m---------------------------------------------------------------------------\u001b[0m",
      "\u001b[1;31mTypeError\u001b[0m                                 Traceback (most recent call last)",
      "\u001b[1;32m<ipython-input-97-fcd1b7d4c287>\u001b[0m in \u001b[0;36m<module>\u001b[1;34m\u001b[0m\n\u001b[0;32m      1\u001b[0m \u001b[1;32mfor\u001b[0m \u001b[0mrow\u001b[0m \u001b[1;32min\u001b[0m \u001b[0mscrapdf\u001b[0m\u001b[1;33m.\u001b[0m\u001b[0mitertuples\u001b[0m\u001b[1;33m(\u001b[0m\u001b[1;33m)\u001b[0m\u001b[1;33m:\u001b[0m\u001b[1;33m\u001b[0m\u001b[0m\n\u001b[0;32m      2\u001b[0m     \u001b[0mcanciones\u001b[0m \u001b[1;33m=\u001b[0m \u001b[0mspotify\u001b[0m\u001b[1;33m.\u001b[0m\u001b[0muser_playlist_tracks\u001b[0m\u001b[1;33m(\u001b[0m\u001b[0mrow\u001b[0m\u001b[1;33m.\u001b[0m\u001b[0mId_usr\u001b[0m\u001b[1;33m,\u001b[0m \u001b[0mstr\u001b[0m\u001b[1;33m(\u001b[0m\u001b[0mrow\u001b[0m\u001b[1;33m.\u001b[0m\u001b[0mId_playlist\u001b[0m\u001b[1;33m)\u001b[0m\u001b[1;33m.\u001b[0m\u001b[0mreplace\u001b[0m\u001b[1;33m(\u001b[0m\u001b[1;34m'/playlist/'\u001b[0m\u001b[1;33m,\u001b[0m \u001b[1;34m''\u001b[0m\u001b[1;33m)\u001b[0m\u001b[1;33m)\u001b[0m\u001b[1;33m\u001b[0m\u001b[0m\n\u001b[1;32m----> 3\u001b[1;33m     \u001b[0mapiDF\u001b[0m\u001b[1;33m.\u001b[0m\u001b[0mappend\u001b[0m\u001b[1;33m(\u001b[0m\u001b[0mcanciones\u001b[0m\u001b[1;33m)\u001b[0m\u001b[1;33m\u001b[0m\u001b[0m\n\u001b[0m",
      "\u001b[1;32mc:\\program files\\python37\\lib\\site-packages\\pandas\\core\\frame.py\u001b[0m in \u001b[0;36mappend\u001b[1;34m(self, other, ignore_index, verify_integrity, sort)\u001b[0m\n\u001b[0;32m   6656\u001b[0m                 \u001b[0mother\u001b[0m \u001b[1;33m=\u001b[0m \u001b[0mSeries\u001b[0m\u001b[1;33m(\u001b[0m\u001b[0mother\u001b[0m\u001b[1;33m)\u001b[0m\u001b[1;33m\u001b[0m\u001b[0m\n\u001b[0;32m   6657\u001b[0m             \u001b[1;32mif\u001b[0m \u001b[0mother\u001b[0m\u001b[1;33m.\u001b[0m\u001b[0mname\u001b[0m \u001b[1;32mis\u001b[0m \u001b[1;32mNone\u001b[0m \u001b[1;32mand\u001b[0m \u001b[1;32mnot\u001b[0m \u001b[0mignore_index\u001b[0m\u001b[1;33m:\u001b[0m\u001b[1;33m\u001b[0m\u001b[0m\n\u001b[1;32m-> 6658\u001b[1;33m                 raise TypeError('Can only append a Series if ignore_index=True'\n\u001b[0m\u001b[0;32m   6659\u001b[0m                                 ' or if the Series has a name')\n\u001b[0;32m   6660\u001b[0m \u001b[1;33m\u001b[0m\u001b[0m\n",
      "\u001b[1;31mTypeError\u001b[0m: Can only append a Series if ignore_index=True or if the Series has a name"
     ]
    }
   ],
   "source": [
    "for row in scrapdf.itertuples():\n",
    "    canciones = spotify.user_playlist_tracks(row.Id_usr, str(row.Id_playlist).replace('/playlist/', ''))\n",
    "    apiDF.append(canciones)"
   ]
  },
  {
   "cell_type": "code",
   "execution_count": 49,
   "metadata": {},
   "outputs": [],
   "source": [
    "apiDF"
   ]
  },
  {
   "cell_type": "code",
   "execution_count": 82,
   "metadata": {},
   "outputs": [],
   "source": [
    "#usamos el id de usuario y el id de la playlist para obtener las canciones y todos los datos que se manejan en la bd de spotify\n",
    "canciones = spotify.user_playlist_tracks('12101725182', '3LXuqFWKxpJGn6yoTvDAOG')\n",
    "dataframe = pd.DataFrame(canciones)"
   ]
  },
  {
   "cell_type": "code",
   "execution_count": 83,
   "metadata": {},
   "outputs": [
    {
     "data": {
      "text/plain": [
       "Index(['href', 'items', 'limit', 'next', 'offset', 'previous', 'total'], dtype='object')"
      ]
     },
     "execution_count": 83,
     "metadata": {},
     "output_type": "execute_result"
    }
   ],
   "source": [
    "dataframe.columns"
   ]
  },
  {
   "cell_type": "code",
   "execution_count": 51,
   "metadata": {},
   "outputs": [
    {
     "name": "stdout",
     "output_type": "stream",
     "text": [
      "   added_by.id             track.name  \\\n",
      "0  12101725182  Don't Dream It's Over   \n",
      "1  12101725182                   High   \n",
      "2  12101725182               Gorgeous   \n",
      "3  12101725182      El rescate - Live   \n",
      "4  12101725182          into the wild   \n",
      "5  12101725182                   Beso   \n",
      "6  12101725182                   Chau   \n",
      "\n",
      "                         track.external_urls.spotify  track.popularity  \n",
      "0  https://open.spotify.com/track/02woMWxtxB5Am7t...                 0  \n",
      "1  https://open.spotify.com/track/2vg16RThWkdrroh...                60  \n",
      "2  https://open.spotify.com/track/1ZY1PqizIl78geG...                65  \n",
      "3  https://open.spotify.com/track/1Ax3ybwNz6KBSRT...                26  \n",
      "4  https://open.spotify.com/track/7zKxoK67ddk6i4O...                40  \n",
      "5  https://open.spotify.com/track/4PpuZIMmeng6qPi...                62  \n",
      "6  https://open.spotify.com/track/7EWbEYuEDzr55hH...                60  \n"
     ]
    }
   ],
   "source": [
    "candionero2 = json_normalize(dataframe['items'])\n",
    "print(candionero2[['added_by.id','track.name', 'track.external_urls.spotify', 'track.popularity']])"
   ]
  }
 ],
 "metadata": {
  "kernelspec": {
   "display_name": "Python 3",
   "language": "python",
   "name": "python3"
  },
  "language_info": {
   "codemirror_mode": {
    "name": "ipython",
    "version": 3
   },
   "file_extension": ".py",
   "mimetype": "text/x-python",
   "name": "python",
   "nbconvert_exporter": "python",
   "pygments_lexer": "ipython3",
   "version": "3.7.0"
  }
 },
 "nbformat": 4,
 "nbformat_minor": 2
}
