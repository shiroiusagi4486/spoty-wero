{
 "cells": [
  {
   "cell_type": "code",
   "execution_count": 1,
   "metadata": {},
   "outputs": [],
   "source": [
    "#Librerias a utilizar\n",
    "import requests\n",
    "from bs4 import BeautifulSoup\n",
    "import spotipy\n",
    "import spotipy.util as util\n",
    "from spotipy.oauth2 import SpotifyClientCredentials\n",
    "import spotipy.oauth2 as oauth2\n",
    "import pandas as pd\n",
    "from pandas.io.json import json_normalize"
   ]
  },
  {
   "cell_type": "markdown",
   "metadata": {},
   "source": [
    "# Web scraping"
   ]
  },
  {
   "cell_type": "code",
   "execution_count": null,
   "metadata": {},
   "outputs": [],
   "source": []
  },
  {
   "cell_type": "markdown",
   "metadata": {},
   "source": [
    "# API Parsing"
   ]
  },
  {
   "cell_type": "code",
   "execution_count": 2,
   "metadata": {},
   "outputs": [
    {
     "name": "stdout",
     "output_type": "stream",
     "text": [
      "<class 'spotipy.client.Spotify'>\n"
     ]
    }
   ],
   "source": [
    "#variables para poder conectar a la API de spotifi, son provistos por developer spotify\n",
    "CLIENT_ID = \"2b7f57a2e7d74e43b0a0771a99fbb470\"\n",
    "CLIENT_SECRET = \"219cfd4ed31349d5b3175e3526de4921\"\n",
    "\n",
    "#Autentificacion y uso de las variables de arriba\n",
    "credentials = oauth2.SpotifyClientCredentials(\n",
    "        client_id=CLIENT_ID,\n",
    "        client_secret=CLIENT_SECRET)\n",
    "\n",
    "#Creacion de los token de autenticación de spotify\n",
    "token = credentials.get_access_token()\n",
    "spotify = spotipy.Spotify(auth=token)\n"
   ]
  },
  {
   "cell_type": "code",
   "execution_count": 18,
   "metadata": {},
   "outputs": [
    {
     "name": "stdout",
     "output_type": "stream",
     "text": [
      "Help on method user_playlist_tracks in module spotipy.client:\n",
      "\n",
      "user_playlist_tracks(user, playlist_id=None, fields=None, limit=100, offset=0, market=None) method of spotipy.client.Spotify instance\n",
      "    Get full details of the tracks of a playlist owned by a user.\n",
      "    \n",
      "    Parameters:\n",
      "        - user - the id of the user\n",
      "        - playlist_id - the id of the playlist\n",
      "        - fields - which fields to return\n",
      "        - limit - the maximum number of tracks to return\n",
      "        - offset - the index of the first track to return\n",
      "        - market - an ISO 3166-1 alpha-2 country code.\n",
      "\n"
     ]
    }
   ],
   "source": [
    "#ayuda con el metodo \n",
    "help(spotify.user_playlist_tracks)"
   ]
  },
  {
   "cell_type": "code",
   "execution_count": 4,
   "metadata": {},
   "outputs": [],
   "source": [
    "#usamos el id de usuario y el id de la playlist para obtener las canciones y todos los datos que se manejan en la bd de spotify\n",
    "canciones = spotify.user_playlist_tracks(12101725182, '3LXuqFWKxpJGn6yoTvDAOG')\n",
    "dataframe = pd.DataFrame(canciones)"
   ]
  },
  {
   "cell_type": "code",
   "execution_count": 26,
   "metadata": {},
   "outputs": [],
   "source": [
    "#pruebas para llegar a la url de la cancion, track name y popularity\n",
    "dataframe2 = json_normalize(canciones['items'])"
   ]
  },
  {
   "cell_type": "code",
   "execution_count": 41,
   "metadata": {},
   "outputs": [
    {
     "data": {
      "text/plain": [
       "0    https://api.spotify.com/v1/tracks/02woMWxtxB5A...\n",
       "1    https://api.spotify.com/v1/tracks/2vg16RThWkdr...\n",
       "2    https://api.spotify.com/v1/tracks/1ZY1PqizIl78...\n",
       "3    https://api.spotify.com/v1/tracks/1Ax3ybwNz6KB...\n",
       "4    https://api.spotify.com/v1/tracks/7zKxoK67ddk6...\n",
       "5    https://api.spotify.com/v1/tracks/4PpuZIMmeng6...\n",
       "6    https://api.spotify.com/v1/tracks/7EWbEYuEDzr5...\n",
       "Name: track.href, dtype: object"
      ]
     },
     "execution_count": 41,
     "metadata": {},
     "output_type": "execute_result"
    }
   ],
   "source": [
    "#mas pruebas\n",
    "dataframe2[['track.href', 'tr']]"
   ]
  },
  {
   "cell_type": "code",
   "execution_count": null,
   "metadata": {},
   "outputs": [],
   "source": []
  },
  {
   "cell_type": "code",
   "execution_count": null,
   "metadata": {},
   "outputs": [],
   "source": []
  }
 ],
 "metadata": {
  "kernelspec": {
   "display_name": "Python 3",
   "language": "python",
   "name": "python3"
  },
  "language_info": {
   "codemirror_mode": {
    "name": "ipython",
    "version": 3
   },
   "file_extension": ".py",
   "mimetype": "text/x-python",
   "name": "python",
   "nbconvert_exporter": "python",
   "pygments_lexer": "ipython3",
   "version": "3.7.0"
  }
 },
 "nbformat": 4,
 "nbformat_minor": 2
}
